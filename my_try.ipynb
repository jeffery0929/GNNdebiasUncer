{
  "nbformat": 4,
  "nbformat_minor": 0,
  "metadata": {
    "colab": {
      "provenance": [],
      "name": "my_try.ipynb",
      "authorship_tag": "ABX9TyPcZxsTtJjIORYdrR0CBpLr",
      "include_colab_link": true
    },
    "kernelspec": {
      "name": "python3",
      "display_name": "Python 3"
    },
    "language_info": {
      "name": "python"
    }
  },
  "cells": [
    {
      "cell_type": "markdown",
      "metadata": {
        "id": "view-in-github",
        "colab_type": "text"
      },
      "source": [
        "<a href=\"https://colab.research.google.com/github/jeffery0929/GNNdebiasUncer/blob/main/my_try.ipynb\" target=\"_parent\"><img src=\"https://colab.research.google.com/assets/colab-badge.svg\" alt=\"Open In Colab\"/></a>"
      ]
    },
    {
      "cell_type": "code",
      "execution_count": 2,
      "metadata": {
        "colab": {
          "base_uri": "https://localhost:8080/"
        },
        "id": "goiAg9qY0aVx",
        "outputId": "12690c75-ddbf-4372-b055-45839b1505c6"
      },
      "outputs": [
        {
          "output_type": "stream",
          "name": "stdout",
          "text": [
            "Cloning into 'GNNdebiasUncer'...\n",
            "remote: Enumerating objects: 247, done.\u001b[K\n",
            "remote: Counting objects: 100% (145/145), done.\u001b[K\n",
            "remote: Compressing objects: 100% (116/116), done.\u001b[K\n",
            "remote: Total 247 (delta 68), reused 63 (delta 23), pack-reused 102\u001b[K\n",
            "Receiving objects: 100% (247/247), 55.03 MiB | 23.19 MiB/s, done.\n",
            "Resolving deltas: 100% (112/112), done.\n",
            "Updating files: 100% (56/56), done.\n"
          ]
        }
      ],
      "source": [
        "!git clone https://github.com/jeffery0929/GNNdebiasUncer.git"
      ]
    }
  ]
}